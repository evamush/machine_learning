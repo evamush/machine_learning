{
 "cells": [
  {
   "cell_type": "markdown",
   "metadata": {},
   "source": [
    "# Support Vector Machine classifiers (1.5 points)\n",
    "\n",
    "In this assignment, we use the scikit-learn package to train an SVM classifier. You will use cross-validation to determine the best combination of values for the two hyperparameters used in SVM: the cost, C, and precision, gamma.\n",
    "\n",
    " - Question 1 (.9) Choosing a Gaussian kernel for the SVM, use 10-fold cross-validation to evaluate the cost and precision parameters (respectively named *C* and *gamma* in the documentation of the *sklearn.svm.SVC* class). The range of values for each parameters are given to you. Visualize the cross-validation error (as a function of the 2 SVM parameters) using *imshow*.  \n",
    "\n",
    " - Question 2 (.5) Plot the decision boundaries, by appropriately modifying the code from the previous exercises. Display the support vectors on the same figure.\n",
    " \n",
    " - Question 3 (.1) Using the svm model you trained with the best combination of cost and precision, evaluate the classifier's generalization error on the test-set by showing the number of misclassified points."
   ]
  },
  {
   "cell_type": "markdown",
   "metadata": {},
   "source": [
    "# Code\n",
    "\n",
    "## Imports"
   ]
  },
  {
   "cell_type": "code",
   "execution_count": 13,
   "metadata": {
    "collapsed": true
   },
   "outputs": [],
   "source": [
    "# Import all necessary modules. If you get an error when executing\n",
    "# this cell, then you are probably missing a module.\n",
    "\n",
    "import matplotlib.pyplot as plt\n",
    "import numpy as np\n",
    "from sklearn.model_selection import KFold\n",
    "from sklearn.svm import SVC"
   ]
  },
  {
   "cell_type": "markdown",
   "metadata": {},
   "source": [
    "## Load and display the training data"
   ]
  },
  {
   "cell_type": "code",
   "execution_count": 14,
   "metadata": {
    "scrolled": true
   },
   "outputs": [
    {
     "name": "stdout",
     "output_type": "stream",
     "text": [
      "(500, 2)\n",
      "(500,)\n"
     ]
    },
    {
     "data": {
      "image/png": "[encoded data removed]",
      "text/plain": [
       "<matplotlib.figure.Figure at 0x1099ec1d0>"
      ]
     },
     "metadata": {},
     "output_type": "display_data"
    }
   ],
   "source": [
    "features = np.load(\"features.npy\")\n",
    "labels = np.load(\"labels.npy\")\n",
    "print(features.shape)\n",
    "print(labels.shape)\n",
    "\n",
    "# Display data\n",
    "pos = labels == 1\n",
    "neg = labels != 1\n",
    "fig, ax = plt.subplots()\n",
    "ax.scatter(features[pos, 0], features[pos, 1], c=\"r\", label=\"Positive class\")\n",
    "ax.scatter(features[neg, 0], features[neg, 1], c=\"b\", label=\"Negative class\")\n",
    "ax.set_title(\"Training data\")\n",
    "ax.set_xlabel(\"Feature 1\")\n",
    "ax.set_ylabel(\"Feature 2\")\n",
    "ax.legend()\n",
    "\n",
    "plt.show()"
   ]
  },
  {
   "cell_type": "markdown",
   "metadata": {},
   "source": [
    "## Training with K-fold cross-validation\n",
    "\n",
    "### Define test values for the cost and precision parameters "
   ]
  },
  {
   "cell_type": "code",
   "execution_count": 15,
   "metadata": {
    "collapsed": true
   },
   "outputs": [],
   "source": [
    "def logsample(start, end, num):\n",
    "    return np.logspace(np.log10(start), np.log10(end), num, base=10.0)\n",
    "\n",
    "num_gammas = 20\n",
    "num_costs = 20\n",
    "gamma_range = logsample(1e-1, 1e3, num_gammas)\n",
    "cost_range = logsample(1e-1, 1e3, num_costs)"
   ]
  },
  {
   "cell_type": "markdown",
   "metadata": {},
   "source": [
    "### Compute error for each parameter combination\n",
    "\n",
    "The function KFold from the scikit-learn library is initialising a \"cross-validation\" object with as argument the number of fold $F$ (here $F=10$). You can then use the object created to obtain partition your input data randomly into train sets and validation sets. For example, if you initialise your partitioner as $\\verb+ kf= KFold(n_splits=F)+$, then calling $\\verb+kf.split(input-data)+$ on your input data will generate a list of $F$ partitions. Each partition has two elements, the first one gives you the indices of the training data, the second the indices of the validation data (the indices refer back to your original input data).\n",
    "\n",
    "To compute SVM, you need to initialise a SVM object with the $\\verb+SVC+$ function with inputs: the hyperparameters, C and gamma, and the type of kernel you want to use ('rbf' for gaussian). For instance:  $\\verb+svm=SVC(C=C,gamma=gamma,kernel='rbf')+$. To train the SVM  model on the training set, call the function $\\verb+svm.fit()+$ with inputs: the features and labels of the training set. Once trained, use the SVM model to classify the validation data based on their features by using the $\\verb+svm.predict()+$ function. The error coresponds to the number of mislabeled data between the prediction and the ground truth given by the labels of the validation data,the lower the error the better the model.\n",
    "                "
   ]
  },
  {
   "cell_type": "code",
   "execution_count": 16,
   "metadata": {},
   "outputs": [
    {
     "name": "stdout",
     "output_type": "stream",
     "text": [
      "[[ 29.2  26.7  22.   20.   20.5  20.5  20.3  19.7  18.6  17.6  15.5  13.2\n",
      "   11.6  10.4  10.1  10.2  10.    9.9   9.6   9.6]\n",
      " [ 27.2  22.3  20.   20.4  20.1  19.7  18.7  17.5  15.6  13.3  11.7  10.4\n",
      "   10.2  10.    9.8   9.9   9.7   9.7   9.5   9.4]\n",
      " [ 22.3  19.6  19.9  19.8  18.9  17.5  15.6  13.7  11.9  10.4  10.2   9.9\n",
      "    9.8   9.9   9.7   9.6   9.5   9.5   9.6   9.6]\n",
      " [ 19.6  19.2  18.8  17.7  15.7  13.7  11.9  10.5  10.1  10.1  10.    9.9\n",
      "    9.8   9.8   9.5   9.8   9.6   9.7   9.6   9.6]\n",
      " [ 17.9  17.7  15.9  13.8  12.1  10.7  10.1  10.1   9.8   9.9   9.9   9.8\n",
      "    9.6   9.6   9.7   9.6   9.7   9.5   9.8   9.7]\n",
      " [ 16.3  14.1  12.4  10.6  10.2  10.1   9.8   9.9   9.9   9.8   9.6   9.5\n",
      "    9.7   9.7   9.7   9.8   9.8   9.9   9.8   9.7]\n",
      " [ 12.6  11.3  10.3   9.9   9.8   9.8  10.    9.7   9.4   9.5   9.8   9.7\n",
      "    9.7   9.9   9.9   9.8   9.6   9.4   9.3   8.9]\n",
      " [ 10.5   9.9  10.1   9.8   9.8   9.6   9.6   9.6   9.7   9.8   9.9   9.9\n",
      "    9.6   9.6   9.2   8.8   9.3   9.3   9.6   9.6]\n",
      " [  9.7   9.7   9.5   9.4   9.4   9.7  10.1   9.9   9.7   9.7   9.5   9.1\n",
      "    8.7   9.1   9.5   9.5   9.7   9.5   9.8   9.6]\n",
      " [  9.5   9.3   9.1   9.5   9.7  10.    9.5   9.3   9.3   9.3   9.5   9.7\n",
      "    9.7   9.4   9.7   9.6   9.4   9.3   8.9   8.7]\n",
      " [  9.2   9.4   9.6   9.6   9.5   9.    9.2   9.4   9.6   9.3   9.4   9.4\n",
      "    8.8   8.8   8.6   8.2   8.    8.3   8.2   8. ]\n",
      " [  9.5   9.8   9.1   9.1   9.    9.1   8.9   8.7   8.8   8.5   7.9   7.9\n",
      "    8.    7.9   7.8   8.    8.3   8.3   8.4   8.8]\n",
      " [  9.1   9.    8.9   8.5   8.5   8.2   8.1   7.9   7.4   7.7   7.9   8.1\n",
      "    8.4   8.7   8.9   8.8   8.9   8.9   9.4   9.6]\n",
      " [  8.4   8.2   8.3   8.1   7.6   8.    7.8   7.8   8.2   8.8   8.8   9.\n",
      "    9.3   9.4   9.3   9.6   9.7   9.9  10.4  11.1]\n",
      " [  8.2   8.4   8.1   8.    8.3   7.7   8.1   8.5   8.6   8.9   9.    9.1\n",
      "    9.3   9.5   9.9  10.6  11.   11.4  11.5  12. ]\n",
      " [  8.8   8.3   8.4   8.5   7.9   8.4   8.5   8.6   8.6   8.9   9.2   9.7\n",
      "   10.   10.6  10.8  11.4  12.1  12.1  12.6  12.3]\n",
      " [  9.7   8.9   8.7   8.2   8.3   8.4   8.7   9.    9.3  10.1  10.8  10.7\n",
      "   11.4  12.   11.9  12.4  13.4  13.7  14.   13.9]\n",
      " [ 16.2   9.8   9.1   8.6   8.7   9.1   8.7   9.9  10.5  11.2  11.7  11.9\n",
      "   12.7  12.7  13.8  14.1  13.3  12.7  12.7  13. ]\n",
      " [ 27.3  14.2   9.6   9.8  10.   10.   10.5  11.1  11.7  11.6  12.1  12.6\n",
      "   13.   13.2  12.7  12.5  12.7  12.9  13.   13. ]\n",
      " [ 27.7  24.6  12.4  10.5  11.1  10.9  11.5  12.1  12.9  13.2  13.4  13.9\n",
      "   13.4  13.1  12.8  13.   13.2  13.3  13.4  13.4]]\n"
     ]
    }
   ],
   "source": [
    "K = 10  # number of folds for cross validation\n",
    "kf = KFold(n_splits=K)\n",
    "cv_error = np.zeros((num_gammas, num_costs))  # error matrix\n",
    "\n",
    "# TODO (Question 1)\n",
    "for i in range(num_gammas):\n",
    "    for j in range(num_costs):\n",
    "        clf = SVC(C=cost_range[j], gamma=gamma_range[i])\n",
    "        mismatch_no = 0\n",
    "        for train_index, test_index in kf.split(features):\n",
    "            clf.fit(features[train_index],labels[train_index])\n",
    "            pred = clf.predict(features[test_index])\n",
    "            mismatch_no += np.sum(np.abs(labels[test_index] - pred))/2\n",
    "\n",
    "        cv_error[i,j] = mismatch_no/10\n",
    "    \n",
    "print (cv_error)\n",
    "    \n",
    "# /TODO (Question 1)"
   ]
  },
  {
   "cell_type": "markdown",
   "metadata": {},
   "source": [
    "### Train the classifier with the best parameter combination"
   ]
  },
  {
   "cell_type": "code",
   "execution_count": 18,
   "metadata": {},
   "outputs": [
    {
     "data": {
      "text/plain": [
       "7.4000000000000004"
      ]
     },
     "execution_count": 18,
     "metadata": {},
     "output_type": "execute_result"
    }
   ],
   "source": [
    "# Find gamma and cost giving the smallest error\n",
    "# TODO (Question 1)\n",
    "import math\n",
    "\n",
    "cv_error_arr = cv_error.reshape(400,)\n",
    "min_error = cv_error_arr.tolist().index(min(cv_error_arr))\n",
    "gamma = gamma_range[math.floor(min_error/20)]\n",
    "cost = cost_range[min_error%20]\n",
    "# /TODO (Question 1)\n",
    "\n",
    "# Train the SVM classifier using these parameters\n",
    "svm = SVC(C=cost, kernel='rbf', gamma=gamma)\n",
    "svm.fit(features, labels)\n",
    "support_vectors = svm.support_vectors_\n",
    "min(cv_error_arr)"
   ]
  },
  {
   "cell_type": "markdown",
   "metadata": {},
   "source": [
    "### Display cross-validation results and decision function"
   ]
  },
  {
   "cell_type": "code",
   "execution_count": 1,
   "metadata": {
    "scrolled": true
   },
   "outputs": [
    {
     "ename": "NameError",
     "evalue": "name 'np' is not defined",
     "output_type": "error",
     "traceback": [
      "\u001b[0;31m---------------------------------------------------------------------------\u001b[0m",
      "\u001b[0;31mNameError\u001b[0m                                 Traceback (most recent call last)",
      "\u001b[0;32m<ipython-input-1-c82e2eb9e6ef>\u001b[0m in \u001b[0;36m<module>\u001b[0;34m()\u001b[0m\n\u001b[1;32m      1\u001b[0m \u001b[0;31m# Sample points on a grid\u001b[0m\u001b[0;34m\u001b[0m\u001b[0;34m\u001b[0m\u001b[0m\n\u001b[1;32m      2\u001b[0m \u001b[0mnum_points\u001b[0m \u001b[0;34m=\u001b[0m \u001b[0;36m100\u001b[0m\u001b[0;34m\u001b[0m\u001b[0m\n\u001b[0;32m----> 3\u001b[0;31m \u001b[0mx_rng\u001b[0m \u001b[0;34m=\u001b[0m \u001b[0mnp\u001b[0m\u001b[0;34m.\u001b[0m\u001b[0mlinspace\u001b[0m\u001b[0;34m(\u001b[0m\u001b[0;36m0\u001b[0m\u001b[0;34m,\u001b[0m \u001b[0;36m1\u001b[0m\u001b[0;34m,\u001b[0m \u001b[0mnum_points\u001b[0m\u001b[0;34m)\u001b[0m\u001b[0;34m\u001b[0m\u001b[0m\n\u001b[0m\u001b[1;32m      4\u001b[0m \u001b[0my_rng\u001b[0m \u001b[0;34m=\u001b[0m \u001b[0mnp\u001b[0m\u001b[0;34m.\u001b[0m\u001b[0mlinspace\u001b[0m\u001b[0;34m(\u001b[0m\u001b[0;36m0\u001b[0m\u001b[0;34m,\u001b[0m \u001b[0;36m1\u001b[0m\u001b[0;34m,\u001b[0m \u001b[0mnum_points\u001b[0m\u001b[0;34m)\u001b[0m\u001b[0;34m\u001b[0m\u001b[0m\n\u001b[1;32m      5\u001b[0m \u001b[0mgrid_x\u001b[0m\u001b[0;34m,\u001b[0m \u001b[0mgrid_y\u001b[0m \u001b[0;34m=\u001b[0m \u001b[0mnp\u001b[0m\u001b[0;34m.\u001b[0m\u001b[0mmeshgrid\u001b[0m\u001b[0;34m(\u001b[0m\u001b[0mx_rng\u001b[0m\u001b[0;34m,\u001b[0m \u001b[0my_rng\u001b[0m\u001b[0;34m)\u001b[0m\u001b[0;34m\u001b[0m\u001b[0m\n",
      "\u001b[0;31mNameError\u001b[0m: name 'np' is not defined"
     ]
    }
   ],
   "source": [
    "# Sample points on a grid\n",
    "num_points = 100\n",
    "x_rng = np.linspace(0, 1, num_points)\n",
    "y_rng = np.linspace(0, 1, num_points)\n",
    "grid_x, grid_y = np.meshgrid(x_rng, y_rng)\n",
    "\n",
    "# Evaluate decision function for each point\n",
    "xy_list = np.column_stack((grid_x.flat, grid_y.flat))\n",
    "values = svm.decision_function(xy_list)\n",
    "values = values.reshape((num_points, num_points))\n",
    "\n",
    "# Display\n",
    "fig = plt.figure(figsize=plt.figaspect(0.25))\n",
    "\n",
    "ax = fig.add_subplot(1, 3, 1)\n",
    "ax.set_title(\"Cross-validation error\")\n",
    "ax.set_xlabel(\"Log10 of the cost parameter\")\n",
    "ax.set_ylabel(\"Log10 of the precision parameter\")\n",
    "# TODO (Question 1)\n",
    "ax.imshow(cv_error,cmap=\"hot\",extent=[-1, 3, -1, 3], origin=\"lower\")\n",
    "# /TODO (Question 1)\n",
    "\n",
    "ax = fig.add_subplot(1, 3, 2)\n",
    "ax.set_title(\"Decision function\")\n",
    "ax.set_xlabel(\"Feature 1\")\n",
    "ax.set_ylabel(\"Feature 2\")\n",
    "ax.imshow(values, extent=[0, 1, 0, 1], origin='lower')\n",
    "\n",
    "ax = fig.add_subplot(1, 3, 3)\n",
    "ax.set_title(\"Support vectors and isolevels of the decision function\")\n",
    "ax.set_xlabel(\"Feature 1\")\n",
    "ax.set_ylabel(\"Feature 2\")\n",
    "# TODO (Question 2)\n",
    "lines=ax.contour(grid_x, grid_y, values, origin=\"lower\")\n",
    "ax.clabel(lines)\n",
    "# /TODO (Question 2)\n",
    "\n",
    "plt.show()"
   ]
  },
  {
   "cell_type": "markdown",
   "metadata": {},
   "source": [
    "## Generalization error\n",
    "\n",
    "### Load the test data"
   ]
  },
  {
   "cell_type": "code",
   "execution_count": 7,
   "metadata": {},
   "outputs": [
    {
     "name": "stdout",
     "output_type": "stream",
     "text": [
      "(500, 2)\n",
      "(500,)\n"
     ]
    }
   ],
   "source": [
    "# Load the training data\n",
    "test_features = np.load(\"test_features.npy\")\n",
    "test_labels = np.load(\"test_labels.npy\")\n",
    "print(test_features.shape)\n",
    "print(test_labels.shape)"
   ]
  },
  {
   "cell_type": "markdown",
   "metadata": {},
   "source": [
    "### Print the number of misclassified points in the test set"
   ]
  },
  {
   "cell_type": "code",
   "execution_count": 1,
   "metadata": {
    "collapsed": true
   },
   "outputs": [],
   "source": [
    "# TODO (Question 3)\n",
    "\n",
    "# /TODO (Question 3)"
   ]
  },
  {
   "cell_type": "code",
   "execution_count": null,
   "metadata": {
    "collapsed": true
   },
   "outputs": [],
   "source": []
  }
 ],
 "metadata": {
  "anaconda-cloud": {},
  "kernelspec": {
   "display_name": "Python 3",
   "language": "python",
   "name": "python3"
  },
  "language_info": {
   "codemirror_mode": {
    "name": "ipython",
    "version": 3
   },
   "file_extension": ".py",
   "mimetype": "text/x-python",
   "name": "python",
   "nbconvert_exporter": "python",
   "pygments_lexer": "ipython3",
   "version": "3.6.2"
  }
 },
 "nbformat": 4,
 "nbformat_minor": 1
}
